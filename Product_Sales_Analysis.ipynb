{
  "cells": [
    {
      "cell_type": "markdown",
      "metadata": {
        "id": "fcIBHHCfnvhM"
      },
      "source": [
        "#Project on Product Sales Analysis by Gaurav and Bhawna."
      ]
    },
    {
      "cell_type": "markdown",
      "metadata": {
        "id": "eAEHgc5Vq_IZ"
      },
      "source": [
        "#IMPORTING LIBRARIES"
      ]
    },
    {
      "cell_type": "code",
      "execution_count": null,
      "metadata": {
        "id": "opBqSfGj86_E"
      },
      "outputs": [],
      "source": [
        "#importing required libraries.\n",
        "\n",
        "import warnings\n",
        "warnings.filterwarnings('ignore')\n",
        "import numpy as np\n",
        "import pandas as pd\n",
        "import matplotlib.pyplot as plt\n",
        "import seaborn as sns\n",
        "%matplotlib inline"
      ]
    },
    {
      "cell_type": "code",
      "execution_count": null,
      "metadata": {
        "id": "2ReM-MjF9ITW"
      },
      "outputs": [],
      "source": [
        "# Importing the dataset\n",
        "\n",
        "dataset = pd.read_csv('electronics.csv')"
      ]
    },
    {
      "cell_type": "code",
      "execution_count": null,
      "metadata": {
        "id": "nTY9_qEo9Fsi"
      },
      "outputs": [],
      "source": [
        "# list of first five rows\n",
        "\n",
        "dataset.head()"
      ]
    },
    {
      "cell_type": "code",
      "execution_count": null,
      "metadata": {
        "id": "0sr_R_-j86_J"
      },
      "outputs": [],
      "source": [
        "# list of last five rows\n",
        "\n",
        "dataset.tail()"
      ]
    },
    {
      "cell_type": "code",
      "execution_count": null,
      "metadata": {
        "id": "c8e9q0i086_K"
      },
      "outputs": [],
      "source": [
        "# shape\n",
        "\n",
        "dataset.shape"
      ]
    },
    {
      "cell_type": "code",
      "execution_count": null,
      "metadata": {
        "id": "V_RKU04V86_L"
      },
      "outputs": [],
      "source": [
        "# It help to know the columns and their corresponding data types\n",
        "\n",
        "dataset.info()"
      ]
    },
    {
      "cell_type": "code",
      "execution_count": null,
      "metadata": {
        "id": "TwDGB39V86_L"
      },
      "outputs": [],
      "source": [
        "# We can also see that the column Timestamp is of int64 data type, but it is actually a timestamp.\n",
        "\n",
        "# We can convert it to a timestamp using the following code:\n",
        "\n",
        "from datetime import datetime\n",
        "\n",
        "pd.to_datetime(dataset['timestamp'])"
      ]
    },
    {
      "cell_type": "code",
      "execution_count": null,
      "metadata": {
        "id": "OnwQd7cN86_L"
      },
      "outputs": [],
      "source": [
        "# We can also see that the column Product ID is of object data type, but it is actually a string.\n",
        "\n",
        "# We can convert it to a string using the following code:\n",
        "\n",
        "dataset['brand'] = dataset['brand'].astype(str)"
      ]
    },
    {
      "cell_type": "code",
      "execution_count": null,
      "metadata": {
        "id": "jgrpZhTa86_M"
      },
      "outputs": [],
      "source": [
        "# We can also see that the column Category is of object data type, but it is actually a string.\n",
        "\n",
        "# We can convert it to a string using the following code:\n",
        "\n",
        "dataset['category'] = dataset['category'].astype(str)"
      ]
    },
    {
      "cell_type": "code",
      "execution_count": null,
      "metadata": {
        "id": "3aX4UjjB86_M"
      },
      "outputs": [],
      "source": [
        "# We can also see that the column Rating is of int64 data type, but it is actually a float.\n",
        "\n",
        "# We can convert it to a float using the following code:\n",
        "\n",
        "dataset['rating'] = dataset['rating'].astype(float)"
      ]
    },
    {
      "cell_type": "code",
      "execution_count": null,
      "metadata": {
        "id": "C5btAF0F86_M"
      },
      "outputs": [],
      "source": [
        "# We can also see that the column User ID is of int64 data type, but it is actually a string.\n",
        "\n",
        "# We can convert it to a string using the following code:\n",
        "\n",
        "dataset['user_id'] = dataset['user_id'].astype(str)"
      ]
    },
    {
      "cell_type": "code",
      "execution_count": null,
      "metadata": {
        "id": "3Mmx2Z9_86_N"
      },
      "outputs": [],
      "source": [
        "# We can also see that the column Product ID is of object data type, but it is actually a string.\n",
        "\n",
        "# We can convert it to a string using the following code:\n",
        "\n",
        "dataset['item_id'] = dataset['item_id'].astype(str)"
      ]
    },
    {
      "cell_type": "code",
      "execution_count": null,
      "metadata": {
        "id": "e39J-NWo86_N"
      },
      "outputs": [],
      "source": [
        "# to get a better understanding of the dataset,\n",
        "\n",
        "# we can also see the statistical summary of the dataset.\n",
        "\n",
        "dataset.describe()"
      ]
    },
    {
      "cell_type": "code",
      "execution_count": null,
      "metadata": {
        "id": "ezv9Eb9Q86_O"
      },
      "outputs": [],
      "source": [
        "# the statistical summary of the dataset gives us the following information:\n",
        "\n",
        "# 1. The mean rating is 4.2.\n",
        "\n",
        "# 2. The minimum rating is 1.\n",
        "\n",
        "# 3. The maximum rating is 5.\n",
        "\n",
        "# 4. The standard deviation of the ratings is 1.1.\n",
        "\n",
        "# 5. The 25th percentile of the ratings is 4.\n",
        "\n",
        "# 6. The 50th percentile of the ratings is 5.\n",
        "\n",
        "# 7. The 75th percentile of the ratings is 5."
      ]
    },
    {
      "cell_type": "code",
      "execution_count": null,
      "metadata": {
        "id": "DMCE3itW86_O"
      },
      "outputs": [],
      "source": [
        "# We can also see the number of unique users and items in the dataset.\n",
        "\n",
        "dataset.nunique()"
      ]
    },
    {
      "cell_type": "code",
      "execution_count": null,
      "metadata": {
        "id": "ecD1xEcw86_P"
      },
      "outputs": [],
      "source": [
        "# drop all duplicate values in rating category\n",
        "\n",
        "#ratings.dropna(inplace=True)\n",
        "\n",
        "#ratings.drop_duplicates(inplace=True)"
      ]
    },
    {
      "cell_type": "code",
      "execution_count": null,
      "metadata": {
        "id": "KXNqp_sf86_P"
      },
      "outputs": [],
      "source": [
        "# check for duplicates\n",
        "\n",
        "dataset.duplicated().sum()"
      ]
    },
    {
      "cell_type": "code",
      "execution_count": null,
      "metadata": {
        "id": "Bhg_IlxY86_P"
      },
      "outputs": [],
      "source": [
        "# check for missing values\n",
        "\n",
        "dataset.isnull().sum()"
      ]
    },
    {
      "cell_type": "markdown",
      "metadata": {
        "id": "KwBKbmo786_Q"
      },
      "source": [
        "#FINDING ANSWERS WITH THE DATA WE HAVE"
      ]
    },
    {
      "cell_type": "code",
      "execution_count": null,
      "metadata": {
        "id": "mGPzQXKg86_R"
      },
      "outputs": [],
      "source": [
        "# the distribution of ratings\n",
        "\n",
        "sns.countplot(x='rating', data=dataset)"
      ]
    },
    {
      "cell_type": "code",
      "execution_count": null,
      "metadata": {
        "id": "3T6DH7uM86_S"
      },
      "outputs": [],
      "source": [
        "# what was the best year of sales\n",
        "\n",
        "dataset['year'] = pd.DatetimeIndex(dataset['timestamp']).year\n",
        "\n",
        "dataset.groupby('year')['rating'].count().plot(kind='bar')"
      ]
    },
    {
      "cell_type": "code",
      "execution_count": null,
      "metadata": {
        "id": "CjZfp5IE86_T"
      },
      "outputs": [],
      "source": [
        "# what brand sold the most in 2015\n",
        "\n",
        "dataset_2015 = dataset[dataset['year'] == 2015]\n",
        "\n",
        "dataset_2015.groupby('brand')['rating'].count().sort_values(ascending=False).head(10).plot(kind='bar')"
      ]
    },
    {
      "cell_type": "code",
      "execution_count": null,
      "metadata": {
        "id": "Cgu3zxc586_T"
      },
      "outputs": [],
      "source": [
        "# Mpow sold the most followed closely with Bose while the least sold was Eldhus."
      ]
    },
    {
      "cell_type": "code",
      "execution_count": null,
      "metadata": {
        "id": "2GyxmUUB86_U"
      },
      "outputs": [],
      "source": [
        "# what product sold the most in 2016\n",
        "\n",
        "dataset[dataset['year'] == 2016].groupby('brand')['rating'].count().sort_values(ascending=False).head(10).plot(kind='bar')"
      ]
    },
    {
      "cell_type": "code",
      "execution_count": null,
      "metadata": {
        "id": "yrq0FODW86_U"
      },
      "outputs": [],
      "source": [
        "# the top 3 products sold in 2016 were Bose, Logitech & TaoTronics"
      ]
    },
    {
      "cell_type": "code",
      "execution_count": null,
      "metadata": {
        "id": "kQYeCKzp86_U"
      },
      "outputs": [],
      "source": [
        "# what product sold the most in 2017\n",
        "\n",
        "dataset[dataset['year'] == 2017].groupby('brand')['rating'].count().sort_values(ascending=False).head(10).plot(kind='bar')"
      ]
    },
    {
      "cell_type": "code",
      "execution_count": null,
      "metadata": {
        "id": "ymmwLpHK86_U"
      },
      "outputs": [],
      "source": [
        "# the top 3 products sold in 2017 were Bose, Logitech and Mpow."
      ]
    },
    {
      "cell_type": "code",
      "execution_count": null,
      "metadata": {
        "id": "bWNZI48x86_V"
      },
      "outputs": [],
      "source": [
        "# what product sold the most in 2018\n",
        "\n",
        "dataset[dataset['year'] == 2018].groupby('brand')['rating'].count().sort_values(ascending=False).head(10).plot(kind='bar')"
      ]
    },
    {
      "cell_type": "code",
      "execution_count": null,
      "metadata": {
        "id": "e2XcOEC586_V"
      },
      "outputs": [],
      "source": [
        "# the top 3 products sold in 2018 were Bose, Mpow and Logitech."
      ]
    },
    {
      "cell_type": "code",
      "execution_count": null,
      "metadata": {
        "id": "Q7AYCwhP86_V"
      },
      "outputs": [],
      "source": [
        "# How much was made in sales in the year 2015\n",
        "\n",
        "dataset[dataset['year'] == 2015].groupby('year')['rating'].count().plot(kind='bar')"
      ]
    },
    {
      "cell_type": "code",
      "execution_count": null,
      "metadata": {
        "id": "uOqAq7Bz86_W"
      },
      "outputs": [],
      "source": [
        "# We can see that the year 2015 had the best sales.\n",
        "\n",
        "# what was the best month of sales\n",
        "\n",
        "dataset['month'] = pd.DatetimeIndex(dataset['timestamp']).month\n",
        "\n",
        "dataset.groupby('month')['rating'].count().plot(kind='bar')"
      ]
    },
    {
      "cell_type": "code",
      "execution_count": null,
      "metadata": {
        "id": "nMaLes1V86_W"
      },
      "outputs": [],
      "source": [
        "# The month of January had the best sales."
      ]
    },
    {
      "cell_type": "code",
      "execution_count": null,
      "metadata": {
        "id": "2R0pSm_A86_W"
      },
      "outputs": [],
      "source": [
        "# What product by brand name sold the most?\n",
        "\n",
        "\n",
        "dataset.groupby('brand')['rating'].count().sort_values(ascending=False).head(10).plot(kind='bar')"
      ]
    },
    {
      "cell_type": "code",
      "execution_count": null,
      "metadata": {
        "id": "0TPQGTwF86_X"
      },
      "outputs": [],
      "source": [
        "# We can see that the brand name of Bose sold the most followed closely with Logitech."
      ]
    },
    {
      "cell_type": "code",
      "execution_count": null,
      "metadata": {
        "id": "t5LUg3rQ86_X"
      },
      "outputs": [],
      "source": [
        "# What product by category sold the most?\n",
        "\n",
        "dataset.groupby('category')['rating'].count().sort_values(ascending=False).head(10).plot(kind='bar')"
      ]
    },
    {
      "cell_type": "code",
      "execution_count": null,
      "metadata": {
        "id": "3xXy_lls86_X"
      },
      "outputs": [],
      "source": [
        "# We can see that the category of Headphones sold the most.\n",
        "\n",
        "# computers and accesories were sold the second most\n",
        "\n",
        "# camera & photo sold the third most followed by Accesories and supplies\n",
        "\n",
        "# the least sold category was Security and Surveillance"
      ]
    },
    {
      "cell_type": "code",
      "execution_count": null,
      "metadata": {
        "id": "JV2KrPKD86_X"
      },
      "outputs": [],
      "source": [
        "# What product by brand name sold the least?\n",
        "\n",
        "dataset.groupby('brand')['rating'].count().sort_values(ascending=True).head(10).plot(kind='bar')"
      ]
    },
    {
      "cell_type": "code",
      "execution_count": null,
      "metadata": {
        "id": "iPqQzPY386_X"
      },
      "outputs": [],
      "source": [
        "# We can see that the brand name of Koolertron sold the least followed closely with DURAGADGET."
      ]
    },
    {
      "cell_type": "code",
      "execution_count": null,
      "metadata": {
        "id": "NJ36tzEz86_Y"
      },
      "outputs": [],
      "source": [
        "# What product by category sold the least?\n",
        "\n",
        "dataset.groupby('category')['rating'].count().sort_values(ascending=True).head(10).plot(kind='bar')"
      ]
    },
    {
      "cell_type": "code",
      "execution_count": null,
      "metadata": {
        "id": "iMg_cf7286_Y"
      },
      "outputs": [],
      "source": [
        "# We can see that the category of Security and Surveillance sold the least."
      ]
    },
    {
      "cell_type": "code",
      "execution_count": null,
      "metadata": {
        "id": "7_TSCXFH86_Y"
      },
      "outputs": [],
      "source": [
        "# category percentage sales\n",
        "\n",
        "dataset.groupby('category')['rating'].count().sort_values(ascending=False).head(10).plot(kind='pie')"
      ]
    },
    {
      "cell_type": "code",
      "execution_count": null,
      "metadata": {
        "id": "-KyNuEjo86_j"
      },
      "outputs": [],
      "source": [
        "# brand percentage sales\n",
        "\n",
        "dataset.groupby('brand')['rating'].count().sort_values(ascending=False).head(10).plot(kind='pie')"
      ]
    },
    {
      "cell_type": "code",
      "execution_count": null,
      "metadata": {
        "id": "z89S8c0886_j"
      },
      "outputs": [],
      "source": [
        "# We can see that the brand name of Bose and Logitech had the most sales"
      ]
    },
    {
      "cell_type": "markdown",
      "metadata": {
        "id": "4EmGBoa8B4Mv"
      },
      "source": [
        " conclusion of our analysis\n",
        "\n",
        "   1.We can see that the year 2015 had the best sales.\n",
        "\n",
        "   2.The month of January had the best sales.\n",
        "\n",
        "   3.We can see that the brands Bose and Logitech sold the most\n",
        "   \n",
        "   4.We can see that the category of Headphones sold the most.\n",
        "   \n",
        "   5.We can see that the brand name of EINCAR sold the least followed closely with DURAGADGET.\n",
        "   \n",
        "   6.We can see that the category of Security and Surveillance sold the least."
      ]
    }
  ],
  "metadata": {
    "colab": {
      "provenance": []
    },
    "kernelspec": {
      "display_name": "Python 3.9.12 ('base')",
      "language": "python",
      "name": "python3"
    },
    "language_info": {
      "codemirror_mode": {
        "name": "ipython",
        "version": 3
      },
      "file_extension": ".py",
      "mimetype": "text/x-python",
      "name": "python",
      "nbconvert_exporter": "python",
      "pygments_lexer": "ipython3",
      "version": "3.9.12"
    },
    "vscode": {
      "interpreter": {
        "hash": "05b71705b04c77cad66c5cedfdd779190a105974319382f7eac1b92ec6a4f5bf"
      }
    }
  },
  "nbformat": 4,
  "nbformat_minor": 0
}